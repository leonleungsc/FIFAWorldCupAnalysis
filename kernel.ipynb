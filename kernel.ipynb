{
  "cells": [
    {
      "metadata": {
        "_uuid": "1adf533385dd55166a7ab16b49961f5db5fa850a"
      },
      "cell_type": "markdown",
      "source": "Objective: Predicting the result of game played between any two teams. \n\nIntro: \n    By analyzing and visualizing the performance of each team, we try to predict the result of any future games played between any two teams based on previous statistics. \n   \nLibraries:\n "
    },
    {
      "metadata": {
        "_uuid": "8f2839f25d086af736a60e9eeb907d3b93b6e0e5",
        "_cell_guid": "b1076dfc-b9ad-4769-8c92-a6c4dae69d19",
        "trusted": true
      },
      "cell_type": "code",
      "source": "import os \nimport colorlover as cl\nimport lightgbm as lgbm\nimport plotly.offline as py\nimport pandas as pd\nimport numpy as np\nimport seaborn as sns\nfrom scipy.stats import skew\nfrom sklearn.preprocessing import LabelEncoder\nfrom sklearn.linear_model import LinearRegression\nfrom sklearn.model_selection import cross_val_predict\nfrom sklearn.metrics import r2_score, classification_report, confusion_matrix, precision_recall_curve\nimport matplotlib.pyplot as plt\n%matplotlib inline\n\nimport warnings\nwarnings.filterwarnings('ignore')\n\n",
      "execution_count": null,
      "outputs": []
    },
    {
      "metadata": {
        "_cell_guid": "79c7e3d0-c299-4dcb-8224-4455121ee9b0",
        "_uuid": "d629ff2d2480ee46fbb7e2d37f6b5fab8052498a",
        "trusted": true
      },
      "cell_type": "code",
      "source": "data = pd.read_csv('../input/FIFA 2018 Statistics.csv')",
      "execution_count": null,
      "outputs": []
    },
    {
      "metadata": {
        "trusted": true,
        "_uuid": "d43af8136a70ef313745f3b7e1e648c7f08fd6fe"
      },
      "cell_type": "code",
      "source": "numerical_features   = data.select_dtypes(include = [np.number]).columns\ncategorical_features = data.select_dtypes(include= [np.object]).columns",
      "execution_count": null,
      "outputs": []
    },
    {
      "metadata": {
        "trusted": true,
        "_uuid": "7b0325fc887e599f04ecac4733bf6efdb19983a9"
      },
      "cell_type": "code",
      "source": "numerical_features",
      "execution_count": null,
      "outputs": []
    },
    {
      "metadata": {
        "trusted": true,
        "scrolled": true,
        "_uuid": "745e471293f51be744bbedd6b5d2cb6319909b3c"
      },
      "cell_type": "code",
      "source": "categorical_features",
      "execution_count": null,
      "outputs": []
    },
    {
      "metadata": {
        "_uuid": "aa973b7af93f5ed55f8a8713ccbf26242964a362"
      },
      "cell_type": "markdown",
      "source": "Checking the data: "
    },
    {
      "metadata": {
        "trusted": true,
        "_uuid": "9520c5dbc0d700b23de4c2752d7e50eb2918348d"
      },
      "cell_type": "code",
      "source": "dtype_counts = data.dtypes.value_counts()\n\nfig, ax = plt.subplots(1, 1, figsize=[7, 4])\nsns.barplot(y=dtype_counts.index.astype(str), x=dtype_counts, ax=ax, \n            palette=sns.color_palette(\"cubehelix\", 8))\n\nfor side in ['top', 'right', 'left']:\n    ax.spines[side].set_visible(False)\nax.grid(axis='x', linestyle='--')\nax.set_xlabel('Variable count')\n\nplt.suptitle('data types', ha='left', fontsize=20, x=.125, y=1)\nplt.show()",
      "execution_count": null,
      "outputs": []
    },
    {
      "metadata": {
        "_uuid": "62f15070b481a7773591650497737dfbb7737de2"
      },
      "cell_type": "markdown",
      "source": "Checking for nulls: "
    },
    {
      "metadata": {
        "trusted": true,
        "_uuid": "dc1a77cc497fc02484f1bcee86dc790142f44a7f"
      },
      "cell_type": "code",
      "source": "null_sums = data.isnull().sum()\nnull_sums = null_sums[null_sums > 0].sort_values(ascending=False)\n\nfig, ax = plt.subplots(1, 1, figsize=[7, 4])\nsns.barplot(y=null_sums.index, x=100 * null_sums / len(data), \n            ax=ax, palette=sns.color_palette(\"cubehelix\", 8))\n\nfor side in ['top', 'right', 'left']:\n    ax.spines[side].set_visible(False)\nax.grid(axis='x', linestyle='--')\nax.set_xlabel('Null %')\n\nplt.suptitle('Null % of columns', ha='left', fontsize=16, x=.125, y=1)\nplt.title('Only columns with at least one null value plotted', ha='left', x=0)\nplt.show()",
      "execution_count": null,
      "outputs": []
    },
    {
      "metadata": {
        "_uuid": "26a3a3c3775e97026989d41da9504c88d2ddb2ff"
      },
      "cell_type": "markdown",
      "source": "There are three columns with null values. It is understandable since there has been couple goalless game, or even more own-goal-less game. "
    },
    {
      "metadata": {
        "_uuid": "42002448b0ee816ac07d9102131ac9895f88445c"
      },
      "cell_type": "markdown",
      "source": "Checking the Skewness of Data: "
    },
    {
      "metadata": {
        "trusted": true,
        "_uuid": "78971232cf132f4443ae5efcd63866a862f78007"
      },
      "cell_type": "code",
      "source": "skew_values = skew(data[numerical_features], nan_policy = 'omit')\n\npd.concat([pd.DataFrame(list(numerical_features), columns=['Features']),pd.DataFrame(list(skew_values), columns=['Skewness degree'])], axis = 1)",
      "execution_count": null,
      "outputs": []
    },
    {
      "metadata": {
        "_uuid": "f3fb8e0ef4399f72e987df88b694e1d318040570"
      },
      "cell_type": "markdown",
      "source": "Skewness indicates the normality of the data. A skewness larger than 0 shows that the distribution is right tailed. In this case, goal socred = 1.132232 which is far from 0, meaning that there are features that affect the normality of the data. \n\nBefore we can actually model and make prediction, it is a good idea to remove the outlier events, such as games that have abnormally amount of violence. And due to the rarity of events like own goal and red card, we would remove them in order to keep the integrity of the data. \n\nRemoving outliers:"
    },
    {
      "metadata": {
        "trusted": true,
        "_uuid": "975bc19f5ad83b044b25283c4e10aadc18383598"
      },
      "cell_type": "code",
      "source": "var_numerical = ['Goal Scored', 'On-Target', 'Corners', 'Attempts', 'Free Kicks', 'Yellow Card', 'Red', 'Fouls Committed']\nplt.show()\ntemp_data = data[var_numerical]\nplt.figure(figsize=(40,20))\nsns.boxplot(data = temp_data)\nplt.show()",
      "execution_count": null,
      "outputs": []
    },
    {
      "metadata": {
        "_uuid": "194bdfb0b1f0fd3eecd5f6dead0b05ff27ebec8d"
      },
      "cell_type": "markdown",
      "source": "We can visually observe outliers that are 1.5 interquantile range away from the sample mean. \n\nThat means: clean up time!"
    },
    {
      "metadata": {
        "_kg_hide-output": false,
        "_kg_hide-input": false,
        "trusted": true,
        "_uuid": "b36fd7c2d228e654c563072c2f6b89105f643794"
      },
      "cell_type": "code",
      "source": "data.drop(['Own goal Time', 'Own goals', '1st Goal'], axis = 1, inplace= True)",
      "execution_count": null,
      "outputs": []
    },
    {
      "metadata": {
        "_uuid": "be0dfcf9f8de587c47b88b381f63f73c9ea41b3b"
      },
      "cell_type": "markdown",
      "source": "Now we also have to observe and clean up categorical data. \n\nBefore we are able to do that, we need to encode the categorical data.\n\n"
    },
    {
      "metadata": {
        "trusted": true,
        "_uuid": "7287bd6253aca71a5597b3ccbb693e2bb68e0f30"
      },
      "cell_type": "code",
      "source": "categorical_features",
      "execution_count": null,
      "outputs": []
    },
    {
      "metadata": {
        "_kg_hide-input": true,
        "trusted": true,
        "_uuid": "5a946d34f92762073ebdaa41204d25f1169ead3e"
      },
      "cell_type": "code",
      "source": "data = pd.read_csv('../input/FIFA 2018 Statistics.csv')\ndef uniqueCategories(x):\n    columns = list(x.columns).copy()\n    for col in columns:\n        print('Feature {} has {} unique values: {}'.format(col, len(x[col].unique()), x[col].unique()))\n        print('\\n')\nuniqueCategories(data[categorical_features].drop('Date', axis = 1))",
      "execution_count": null,
      "outputs": []
    },
    {
      "metadata": {
        "_uuid": "b6b3ed43319eb1f656ae9e3d99c11d2de8ecbc58"
      },
      "cell_type": "markdown",
      "source": "We are removing the date, round since they have little relevancy of the outcome. \n\n"
    },
    {
      "metadata": {
        "_kg_hide-input": true,
        "trusted": true,
        "_uuid": "5ffeaa1ecaea6ba454389d590337415fa08e95f9"
      },
      "cell_type": "code",
      "source": "data = pd.read_csv('../input/FIFA 2018 Statistics.csv')\ndata.drop('Date', axis = 1, inplace=True)\n",
      "execution_count": null,
      "outputs": []
    },
    {
      "metadata": {
        "_uuid": "9d921b790b8be900ed833e6504a0741698f49f3f"
      },
      "cell_type": "markdown",
      "source": "Now we are good to go!\n\nLet's look at our cleaned up data!"
    },
    {
      "metadata": {
        "trusted": true,
        "_uuid": "804a4b1495d23675d6207ab93a699d3ae3d594ed"
      },
      "cell_type": "code",
      "source": "print(data.shape)\ndata.head()",
      "execution_count": null,
      "outputs": []
    },
    {
      "metadata": {
        "trusted": true,
        "_uuid": "6424675d6f2f5313719a9d92c197c5acee4bb7c1"
      },
      "cell_type": "code",
      "source": "cleaned_data  = pd.get_dummies(data)",
      "execution_count": null,
      "outputs": []
    },
    {
      "metadata": {
        "_uuid": "0ca8f8ccf9cff733fec2cddb18c10a2f8805a3b4"
      },
      "cell_type": "markdown",
      "source": "To have a better standing of how each variable affect the other, one of the most common measurements that we will be using is Pearson product-moment correlation coefficient. It measures the strength and direction of the linear relationship between two variables. \n\n"
    },
    {
      "metadata": {
        "trusted": true,
        "_uuid": "f86c3daf85f1d430f4301848ce491c4542c2ef0d"
      },
      "cell_type": "code",
      "source": "numerical_features",
      "execution_count": null,
      "outputs": []
    },
    {
      "metadata": {
        "_kg_hide-input": true,
        "trusted": true,
        "_uuid": "f8b67ec4545f152f4c6ae819b18878ce2f15a1ea"
      },
      "cell_type": "code",
      "source": "plt.figure(figsize=(60,10))\ndata = pd.read_csv('../input/FIFA 2018 Statistics.csv')\nsns.heatmap(data[numerical_features].corr(), square=True, annot=True,robust=True, yticklabels=1)",
      "execution_count": null,
      "outputs": []
    },
    {
      "metadata": {
        "trusted": true,
        "_uuid": "eb79190ad3bc8b76061c4ef17df22516e6b29551"
      },
      "cell_type": "markdown",
      "source": "So what are the aspects of the game that have the biggest impact on the outcome? In another words, what affects the number of goal scored? \n\nFrom a glance of the bivariate analysis from above and years of experience as a soccer fan, it is not hard to boil the game down into several factor such as possession, distance covered, passing accuracy and attempts. \n\nSince Spain won the 2010 Euro Cup and 2012 World Cup with high possesion control style, more coaches start believing that controling the pace of the game is essential to winning it. \n\nWe will use a rather simple linear regression model to validate our intuition. "
    },
    {
      "metadata": {
        "trusted": true,
        "_uuid": "d53bb7c0912613c24937d01b5f3ab2710b87f568"
      },
      "cell_type": "code",
      "source": "df = data\nmatch_df = df.merge(df, left_on=['Date', 'Team'], right_on=['Date', 'Opponent'], \n                    how='inner', suffixes=[' Team', ' Opponent'])\n\nfig, (ax, ax1) = plt.subplots(1, 2, figsize=[14, 5])\nmatch_df.loc[match_df['Goal Scored Team'] > match_df['Goal Scored Opponent'], 'Result'] = 'Team win'\nmatch_df.loc[match_df['Goal Scored Team'] < match_df['Goal Scored Opponent'], 'Result'] = 'Opponent win'\nmatch_df.loc[match_df['Goal Scored Team'] == match_df['Goal Scored Opponent'], 'Result'] = 'Draw'\nmatch_df.loc[(match_df['Goal Scored Team'] == match_df['Goal Scored Opponent']) &\n             (match_df['Goals in PSO Team'] < match_df['Goals in PSO Opponent']), 'Result'] = 'Opponent win (Pens)'\nmatch_df.loc[(match_df['Goal Scored Team'] == match_df['Goal Scored Opponent']) &\n             (match_df['Goals in PSO Team'] > match_df['Goals in PSO Opponent']), 'Result'] = 'Team win (Pens)'\nfor res in match_df['Result'].unique():\n    sns.kdeplot(match_df.loc[match_df['Result'] == res, 'Ball Possession % Team'], \n                ax=ax, label=res, shade=True)\nax.set_title('Effect of possession of ball', \n             ha='left', fontsize=16, x=0, y=1.02)\nax.yaxis.set_visible(False)\nax.set_ylim([ax.get_ylim()[0], .04])\n    \nsns.barplot(y='Result', x='Ball Possession % Team', data=match_df, ax=ax1)\nax1.grid(axis='x', linestyle='--')\nax1.set_ylabel('')\n\nfor a in [ax, ax1]:\n    for spine in ['top', 'left', 'right']:\n        a.spines[spine].set_visible(False)\n    a.set_xlabel('Team possession (%)')\n    a.legend(frameon=False)\n\nplt.autoscale()\nplt.show()",
      "execution_count": null,
      "outputs": []
    },
    {
      "metadata": {
        "_uuid": "ee5ed2543225e54a4c83e42abf15baf3203e2212"
      },
      "cell_type": "markdown",
      "source": "Does runnning more gives the team the edge? Legends has it that if you work harder than every one else, you would have a better chance of winning the game. \n\nBut do you?"
    },
    {
      "metadata": {
        "trusted": true,
        "_uuid": "4e64dee1ad14319eb739697f311c1e583fae520c"
      },
      "cell_type": "code",
      "source": "\nkeep = []\nfor i, row in match_df.iterrows():\n    if i > 0:\n        if (row['Team Team'] == match_df.loc[i - 1, 'Opponent Team']) & \\\n            (row['Date'] == match_df.loc[i - 1, 'Date']):\n            continue\n        else:\n            keep.append(i)\n            \nmatch_df = match_df.loc[keep, :]\nmatch_df['Distance vs. Opponent'] = match_df['Distance Covered (Kms) Team'] - match_df['Distance Covered (Kms) Opponent']\nmatch_df['Goal Difference'] = match_df['Goal Scored Team'] - match_df['Goal Scored Opponent']\n\nlm1 = LinearRegression().fit(match_df['Distance vs. Opponent'].values.reshape(-1, 1), match_df['Ball Possession % Team'])\nextremes = np.array([match_df['Distance vs. Opponent'].min(), match_df['Distance vs. Opponent'].max()]).reshape(-1, 1)\nposs_pred = lm1.predict(match_df['Ball Possession % Team'].values.reshape(-1, 1))\nposs_pred_plot = lm1.predict(extremes)\n\nlm2 = LinearRegression().fit(match_df['Distance vs. Opponent'].values.reshape(-1, 1), match_df['Goal Difference'])\ngd_pred = lm2.predict(match_df['Ball Possession % Team'].values.reshape(-1, 1))\ngd_pred_plot = lm2.predict(extremes)\n\nfig, (ax, ax1) = plt.subplots(1, 2, figsize=[16, 4])\nax.scatter(match_df['Distance vs. Opponent'], match_df['Ball Possession % Team'], edgecolors='blue', alpha=.3,\n           s=100, c='red')\nax.plot(extremes, poss_pred_plot, color='g', linestyle='--', \n        label='Linear fit (R2 = {:.2f})'.format(r2_score(match_df['Ball Possession % Team'], poss_pred)))\nax.set_ylabel('Possession (%)')\nax.set_title('On possession', ha='left', fontsize=16, x=0, y=1.05)\n\nax1.scatter(match_df['Distance vs. Opponent'], match_df['Goal Difference'], edgecolors='green', alpha=.3,\n           s=100, c='yellow')\nax1.plot(extremes, gd_pred_plot, color='g', linestyle='--', \n        label='Linear fit (R2 = {:.2f})'.format(r2_score(match_df['Ball Possession % Team'], gd_pred)))\nax1.set_ylabel('Match goal difference')\nax1.set_title('On goal difference', ha='left', fontsize=16, x=0, y=1.05)\n\nfor a in (ax, ax1):\n    a.legend(frameon=False)\n    a.spines['right'].set_visible(False)\n    a.spines['top'].set_visible(False)\n    a.set_xlabel('Distance run further than opponent (km)')\n    \nplt.suptitle('Effects of Distance Covered', ha='left', x=.125, fontsize=16, y=1.05)\nplt.show()",
      "execution_count": null,
      "outputs": []
    },
    {
      "metadata": {
        "_uuid": "0d41549de3879bec2b4a566cea9a060520515cc6"
      },
      "cell_type": "markdown",
      "source": "Upon examining the graph above, more distance covered has a negative relationship with possesion. Which makes sense, because when the team has no ball under the feet, they need to run harder to retrieve them. \n\nBut distance covered has a less clear relationship with goal difference. Despite the positive relationship, low R2 score suggests that there is no strong support for the claim. "
    },
    {
      "metadata": {
        "trusted": true,
        "_uuid": "1d95e33819e1dd501dc87f3d9578890147e01b8a"
      },
      "cell_type": "code",
      "source": "\ncountry_dict = {\n    'Afghanistan': 'AFG',\n     'Albania': 'ALB',\n     'Algeria': 'DZA',\n     'American Samoa': 'ASM',\n     'Andorra': 'AND',\n     'Angola': 'AGO',\n     'Anguilla': 'AIA',\n     'Antigua and Barbuda': 'ATG',\n     'Argentina': 'ARG',\n     'Armenia': 'ARM',\n     'Aruba': 'ABW',\n     'Australia': 'AUS',\n     'Austria': 'AUT',\n     'Azerbaijan': 'AZE',\n     'Bahamas, The': 'BHM',\n     'Bahrain': 'BHR',\n     'Bangladesh': 'BGD',\n     'Barbados': 'BRB',\n     'Belarus': 'BLR',\n     'Belgium': 'BEL',\n     'Belize': 'BLZ',\n     'Benin': 'BEN',\n     'Bermuda': 'BMU',\n     'Bhutan': 'BTN',\n     'Bolivia': 'BOL',\n     'Bosnia and Herzegovina': 'BIH',\n     'Botswana': 'BWA',\n     'Brazil': 'BRA',\n     'British Virgin Islands': 'VGB',\n     'Brunei': 'BRN',\n     'Bulgaria': 'BGR',\n     'Burkina Faso': 'BFA',\n     'Burma': 'MMR',\n     'Burundi': 'BDI',\n     'Cabo Verde': 'CPV',\n     'Cambodia': 'KHM',\n     'Cameroon': 'CMR',\n     'Canada': 'CAN',\n     'Cayman Islands': 'CYM',\n     'Central African Republic': 'CAF',\n     'Chad': 'TCD',\n     'Chile': 'CHL',\n     'China': 'CHN',\n     'Colombia': 'COL',\n     'Comoros': 'COM',\n     'Congo, Democratic Republic of the': 'COD',\n     'Congo, Republic of the': 'COG',\n     'Cook Islands': 'COK',\n     'Costa Rica': 'CRI',\n     \"Cote d'Ivoire\": 'CIV',\n     'Croatia': 'HRV',\n     'Cuba': 'CUB',\n     'Curacao': 'CUW',\n     'Cyprus': 'CYP',\n     'Czech Republic': 'CZE',\n     'Denmark': 'DNK',\n     'Djibouti': 'DJI',\n     'Dominica': 'DMA',\n     'Dominican Republic': 'DOM',\n     'Ecuador': 'ECU',\n     'Egypt': 'EGY',\n     'El Salvador': 'SLV',\n     'Equatorial Guinea': 'GNQ',\n     'Eritrea': 'ERI',\n     'Estonia': 'EST',\n     'Ethiopia': 'ETH',\n     'Falkland Islands (Islas Malvinas)': 'FLK',\n     'Faroe Islands': 'FRO',\n     'Fiji': 'FJI',\n     'Finland': 'FIN',\n     'France': 'FRA',\n     'French Polynesia': 'PYF',\n     'Gabon': 'GAB',\n     'Gambia, The': 'GMB',\n     'Georgia': 'GEO',\n     'Germany': 'DEU',\n     'Ghana': 'GHA',\n     'Gibraltar': 'GIB',\n     'Greece': 'GRC',\n     'Greenland': 'GRL',\n     'Grenada': 'GRD',\n     'Guam': 'GUM',\n     'Guatemala': 'GTM',\n     'Guernsey': 'GGY',\n     'Guinea': 'GIN',\n     'Guinea-Bissau': 'GNB',\n     'Guyana': 'GUY',\n     'Haiti': 'HTI',\n     'Honduras': 'HND',\n     'Hong Kong': 'HKG',\n     'Hungary': 'HUN',\n     'Iceland': 'ISL',\n     'India': 'IND',\n     'Indonesia': 'IDN',\n     'Iran': 'IRN',\n     'Iraq': 'IRQ',\n     'Ireland': 'IRL',\n     'Isle of Man': 'IMN',\n     'Israel': 'ISR',\n     'Italy': 'ITA',\n     'Jamaica': 'JAM',\n     'Japan': 'JPN',\n     'Jersey': 'JEY',\n     'Jordan': 'JOR',\n     'Kazakhstan': 'KAZ',\n     'Kenya': 'KEN',\n     'Kiribati': 'KIR',\n     'Korea, North': 'PRK',\n     'Korea, South': 'KOR',\n     'Kosovo': 'KSV',\n     'Kuwait': 'KWT',\n     'Kyrgyzstan': 'KGZ',\n     'Laos': 'LAO',\n     'Latvia': 'LVA',\n     'Lebanon': 'LBN',\n     'Lesotho': 'LSO',\n     'Liberia': 'LBR',\n     'Libya': 'LBY',\n     'Liechtenstein': 'LIE',\n     'Lithuania': 'LTU',\n     'Luxembourg': 'LUX',\n     'Macau': 'MAC',\n     'Macedonia': 'MKD',\n     'Madagascar': 'MDG',\n     'Malawi': 'MWI',\n     'Malaysia': 'MYS',\n     'Maldives': 'MDV',\n     'Mali': 'MLI',\n     'Malta': 'MLT',\n     'Marshall Islands': 'MHL',\n     'Mauritania': 'MRT',\n     'Mauritius': 'MUS',\n     'Mexico': 'MEX',\n     'Micronesia, Federated States of': 'FSM',\n     'Moldova': 'MDA',\n     'Monaco': 'MCO',\n     'Mongolia': 'MNG',\n     'Montenegro': 'MNE',\n     'Morocco': 'MAR',\n     'Mozambique': 'MOZ',\n     'Namibia': 'NAM',\n     'Nepal': 'NPL',\n     'Netherlands': 'NLD',\n     'New Caledonia': 'NCL',\n     'New Zealand': 'NZL',\n     'Nicaragua': 'NIC',\n     'Niger': 'NER',\n     'Nigeria': 'NGA',\n     'Niue': 'NIU',\n     'Northern Mariana Islands': 'MNP',\n     'Norway': 'NOR',\n     'Oman': 'OMN',\n     'Pakistan': 'PAK',\n     'Palau': 'PLW',\n     'Panama': 'PAN',\n     'Papua New Guinea': 'PNG',\n     'Paraguay': 'PRY',\n     'Peru': 'PER',\n     'Philippines': 'PHL',\n     'Poland': 'POL',\n     'Portugal': 'PRT',\n     'Puerto Rico': 'PRI',\n     'Qatar': 'QAT',\n     'Romania': 'ROU',\n     'Russia': 'RUS',\n     'Rwanda': 'RWA',\n     'Saint Kitts and Nevis': 'KNA',\n     'Saint Lucia': 'LCA',\n     'Saint Martin': 'MAF',\n     'Saint Pierre and Miquelon': 'SPM',\n     'Saint Vincent and the Grenadines': 'VCT',\n     'Samoa': 'WSM',\n     'San Marino': 'SMR',\n     'Sao Tome and Principe': 'STP',\n     'Saudi Arabia': 'SAU',\n     'Senegal': 'SEN',\n     'Serbia': 'SRB',\n     'Seychelles': 'SYC',\n     'Sierra Leone': 'SLE',\n     'Singapore': 'SGP',\n     'Sint Maarten': 'SXM',\n     'Slovakia': 'SVK',\n     'Slovenia': 'SVN',\n     'Solomon Islands': 'SLB',\n     'Somalia': 'SOM',\n     'South Africa': 'ZAF',\n     'South Sudan': 'SSD',\n     'Spain': 'ESP',\n     'Sri Lanka': 'LKA',\n     'Sudan': 'SDN',\n     'Suriname': 'SUR',\n     'Swaziland': 'SWZ',\n     'Sweden': 'SWE',\n     'Switzerland': 'CHE',\n     'Syria': 'SYR',\n     'Taiwan': 'TWN',\n     'Tajikistan': 'TJK',\n     'Tanzania': 'TZA',\n     'Thailand': 'THA',\n     'Timor-Leste': 'TLS',\n     'Togo': 'TGO',\n     'Tonga': 'TON',\n     'Trinidad and Tobago': 'TTO',\n     'Tunisia': 'TUN',\n     'Turkey': 'TUR',\n     'Turkmenistan': 'TKM',\n     'Tuvalu': 'TUV',\n     'Uganda': 'UGA',\n     'Ukraine': 'UKR',\n     'United Arab Emirates': 'ARE',\n     'United Kingdom': 'GBR',\n     'United States': 'USA',\n     'Uruguay': 'URY',\n     'Uzbekistan': 'UZB',\n     'Vanuatu': 'VUT',\n     'Venezuela': 'VEN',\n     'Vietnam': 'VNM',\n     'Virgin Islands': 'VGB',\n     'West Bank': 'WBG',\n     'Yemen': 'YEM',\n     'Zambia': 'ZMB',\n     'Zimbabwe': 'ZWE'\n}\nresults_to_points_home = {\n    'Team win': 3,\n    'Opponent win': 0,\n    'Draw': 1,\n    'Opponent win (Pens)': 0,\n    'Tean win (Pens)': 3\n}\nresults_to_points_away = {\n    'Team win': 0,\n    'Opponent win': 3,\n    'Draw': 1,\n    'Opponent win (Pens)': 3,\n    'Tean win (Pens)': 0\n}\ncontinent_dict={\n    'Russia': 'Europe',\n    'Saudi Arabia': 'Asia',\n    'Egypt': 'Africa',\n    'Uruguay': 'South America',\n    'Morocco': 'Africa',\n    'Iran': 'Asia',\n    'Portugal': 'Europe',\n    'Spain': 'Europe',\n    'France': 'Europe',\n    'Australia': 'Asia',\n    'Argentina': 'South America',\n    'Iceland': 'Europe',\n    'Peru': 'South America',\n    'Denmark': 'Europe',\n    'Croatia': 'Europe',\n    'Nigeria': 'Africa',\n    'Costa Rica': 'North & Central America',\n    'Serbia': 'Europe',\n    'Germany': 'Europe',\n    'Mexico': 'North & Central America',\n    'Brazil': 'South America',\n    'Switzerland': 'Europe',\n    'Sweden': 'Europe',\n    'Korea Republic': 'Asia',\n    'Belgium': 'Europe',\n    'Panama': 'North & Central America',\n    'Tunisia': 'Africa',\n    'England': 'Europe',\n    'Colombia': 'South America',\n    'Japan': 'Asia',\n    'Poland': 'Europe',\n    'Senegal': 'Africa'\n}\n\ncountry_dict['England'] = 'GBR'  \ncountry_dict['Korea Republic'] = 'KOR'\n\nmatch_df['Home Team Points'] = match_df['Result'].map(results_to_points_home)\nmatch_df['Away Team Points'] = match_df['Result'].map(results_to_points_away)\n\ncountry_performance_home = match_df.groupby('Team Team')['Home Team Points'].sum().reset_index()\ncountry_performance_away = match_df.groupby('Opponent Team')['Away Team Points'].sum().reset_index()\n\ncountry_performance = country_performance_home.merge(country_performance_away, \n                                                     left_on='Team Team', right_on='Opponent Team')\ncountry_performance['Total Points'] = country_performance['Home Team Points'] + \\\n    country_performance['Away Team Points']\n\ncountry_performance['Team Plotly Code'] = country_performance['Team Team'].map(country_dict)\n\n\n\nfig = dict( data=data, layout=layout )\npy.iplot( fig, validate=False, filename='d3-world-map' )\ndf['Shot Accuracy %'] = 100 * df['On-Target'] / (df['On-Target'] + df['Off-Target'])\nteam_precision = df.groupby('Team')['Pass Accuracy %', 'Shot Accuracy %'].mean().reset_index()\nteam_precision = \\\n    team_precision.merge(country_performance[['Team Team', 'Total Points']], left_on='Team', right_on='Team Team')",
      "execution_count": null,
      "outputs": []
    },
    {
      "metadata": {
        "trusted": true,
        "_uuid": "7fc65917db716d11bba291d0c31765584f72f7a5",
        "scrolled": true
      },
      "cell_type": "code",
      "source": "fig, ax = plt.subplots(1, 1, figsize = [12, 8])\nax.scatter(team_precision['Pass Accuracy %'], team_precision['Shot Accuracy %'],\n           s=100 * team_precision['Total Points'], alpha=.7)\nax.set_xlabel('Pass Accuracy (%)')\nax.set_ylabel('Shot Accuracy (%)')\n\nfor spine in ['top', 'left', 'right', 'bottom']:\n    ax.spines[spine].set_visible(False)\n\nax.grid(linestyle='', alpha=.7)\nfor i, row in team_precision.iterrows():\n    ax.annotate(row['Team'], xy=(row['Pass Accuracy %']+.3, row['Shot Accuracy %']+.5))\n\nplt.show()",
      "execution_count": null,
      "outputs": []
    },
    {
      "metadata": {
        "trusted": true,
        "_uuid": "ae9f144a5973d1f98c32b5b4343d341faa9cfebe"
      },
      "cell_type": "markdown",
      "source": "It turns out that passing better and shooting better does not guarentee a W, but there is a positive relationship between passing accuracy and the size of the circle. With more data we have reasons to believe that a simple linear regression model would be enough to justify the claim. "
    },
    {
      "metadata": {
        "trusted": true,
        "_uuid": "2b960500c6e24906a7bc12a2724fc30b3f987b24"
      },
      "cell_type": "code",
      "source": "",
      "execution_count": null,
      "outputs": []
    }
  ],
  "metadata": {
    "kernelspec": {
      "display_name": "Python 3",
      "language": "python",
      "name": "python3"
    },
    "language_info": {
      "name": "python",
      "version": "3.6.6",
      "mimetype": "text/x-python",
      "codemirror_mode": {
        "name": "ipython",
        "version": 3
      },
      "pygments_lexer": "ipython3",
      "nbconvert_exporter": "python",
      "file_extension": ".py"
    }
  },
  "nbformat": 4,
  "nbformat_minor": 1
}